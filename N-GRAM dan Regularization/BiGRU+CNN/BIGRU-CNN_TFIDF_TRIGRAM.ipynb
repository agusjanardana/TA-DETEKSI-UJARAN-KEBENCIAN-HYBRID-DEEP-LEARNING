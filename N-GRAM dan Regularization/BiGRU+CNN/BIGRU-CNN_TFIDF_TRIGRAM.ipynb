{
 "cells": [
  {
   "cell_type": "code",
   "execution_count": null,
   "metadata": {
    "collapsed": true
   },
   "outputs": [],
   "source": [
    "import keras.optimizers\n",
    "import pandas as pd\n",
    "import numpy as np\n",
    "from sklearn.model_selection import train_test_split\n",
    "from sklearn.feature_extraction.text import CountVectorizer, TfidfVectorizer\n",
    "from keras.preprocessing.text import Tokenizer\n",
    "# from keras.preprocessing.sequence import pad_sequences v 2.9 kebawah\n",
    "from keras.utils import pad_sequences\n",
    "from keras.models import Sequential\n",
    "from keras.layers import Dense, Dropout, Embedding, Bidirectional, LSTM, GRU, Conv1D, MaxPooling1D, Flatten\n",
    "from keras.callbacks import EarlyStopping\n",
    "from sklearn.metrics import classification_report\n",
    "from sklearn.metrics import precision_score, accuracy_score, recall_score, f1_score\n",
    "from keras.wrappers.scikit_learn import KerasClassifier\n",
    "import tensorflow as tf\n",
    "import matplotlib.pyplot as plt"
   ]
  },
  {
   "cell_type": "markdown",
   "source": [
    "## BIGU-CNN_TFIDF_BIGRAM\n",
    "Copyright @I Gde Bagus Janardana Abasan"
   ],
   "metadata": {
    "collapsed": false
   }
  },
  {
   "cell_type": "code",
   "execution_count": null,
   "outputs": [],
   "source": [
    "def process_data(test_size):\n",
    "  dataset = pd.read_csv('..//..//../data/data-for-test/dataset_kepolisian_clean_test.csv', usecols=['preprocess_final', 'label_fase_1'])\n",
    "  # COPY ONLY 100 data\n",
    "  # make data['label_fase_1'] to 0 and 1 binary classifier karena tensor hanya bisa input 0 =< label =< 1\n",
    "  dataset['label_fase_1'] = dataset['label_fase_1'].apply(lambda x: 1 if x == 'HS' else 0)\n",
    "\n",
    "  tf_idf_vec = TfidfVectorizer(use_idf=True, smooth_idf=False, ngram_range=(3, 3), max_features=10000)\n",
    "\n",
    "  #   transform\n",
    "  tf_idf_data = tf_idf_vec.fit_transform(dataset['preprocess_final'])\n",
    "  x_final = pd.DataFrame(tf_idf_data.toarray(), columns=tf_idf_vec.get_feature_names_out())\n",
    "  y_final = dataset['label_fase_1'].copy()\n",
    "\n",
    "  # split data\n",
    "  x_train, x_test, y_train, y_test = train_test_split(x_final, y_final, test_size=test_size, random_state=42)\n",
    "\n",
    "  return x_train, x_test, y_train, y_test"
   ],
   "metadata": {
    "collapsed": false
   }
  },
  {
   "cell_type": "code",
   "execution_count": null,
   "outputs": [],
   "source": [
    "def create_bigru_cnn_model(x_train, x_test, y_train, y_test, epochs, batch_size):\n",
    "  # BiGRU + CNN model\n",
    "  #reshape\n",
    "  X_train = np.array(x_train).reshape(x_train.shape[0], x_train.shape[1], 1)\n",
    "  X_test = np.array(x_test).reshape(x_test.shape[0], x_test.shape[1], 1)\n",
    "\n",
    "  model = Sequential()\n",
    "  model.add(Bidirectional(GRU(input_shape=X_train.shape, units=32, return_sequences=True)))\n",
    "  model.add(Conv1D(filters=32, kernel_size=3, padding='same', activation='relu', input_shape=(X_train.shape[1], 1)))\n",
    "  model.add(MaxPooling1D(pool_size=2, strides=2, padding='same'))\n",
    "  model.add(Flatten())\n",
    "  model.add(Dense(units=32, activation='relu'))\n",
    "  model.add(Dense(units=1, activation='sigmoid'))\n",
    "  model.compile(optimizer=\"adam\", loss='binary_crossentropy', metrics=['accuracy'])\n",
    "  model.build(input_shape=(None, X_train.shape[1], 1))\n",
    "  model.summary()\n",
    "  model.fit(X_train, y_train, validation_data=(X_test, y_test), epochs=epochs, batch_size=batch_size)\n",
    "  loss = model.history.history['loss']\n",
    "  val_loss = model.history.history['val_loss']\n",
    "  print(\"=== MODEL EVALUATE TEST DATA ===\")\n",
    "  score = model.evaluate(X_test, y_test, batch_size=batch_size, verbose=0)\n",
    "  print()\n",
    "  print('Validation Accuracy:', score[1])\n",
    "  print('Validation Loss:', score[0])\n",
    "  print()\n",
    "\n",
    "  return model, loss, val_loss"
   ],
   "metadata": {
    "collapsed": false
   }
  },
  {
   "cell_type": "code",
   "execution_count": null,
   "outputs": [],
   "source": [
    "def call():\n",
    "  x_train, x_test, y_train, y_test = process_data(test_size=0.2)\n",
    "  model, loss, val_loss = create_bigru_cnn_model(x_train, x_test, y_train, y_test, epochs=10, batch_size=64)\n",
    "  # predict\n",
    "  y_pred = model.predict(x_test)\n",
    "  print()\n",
    "\n",
    "  # confusion matrix\n",
    "  classreport = classification_report(y_test, y_pred.round(), digits=4)\n",
    "  print(classreport)\n",
    "  print()\n",
    "  accscore = accuracy_score(y_test, y_pred.round())\n",
    "  precscore = precision_score(y_test, y_pred.round())\n",
    "  recscore = recall_score(y_test, y_pred.round())\n",
    "  f1score = f1_score(y_test, y_pred.round())\n",
    "\n",
    "  return [accscore, precscore, recscore, f1score, loss, val_loss]"
   ],
   "metadata": {
    "collapsed": false
   }
  },
  {
   "cell_type": "code",
   "execution_count": null,
   "outputs": [],
   "source": [
    "result = []\n",
    "for i in range (5):\n",
    "  result.append([i+1] + call())"
   ],
   "metadata": {
    "collapsed": false
   }
  },
  {
   "cell_type": "code",
   "execution_count": null,
   "outputs": [],
   "source": [
    "def loss_func(df):\n",
    "  for idx, val in enumerate(df['No']):\n",
    "    plt.plot(df['Loss'].iloc[idx])\n",
    "    plt.plot(df['Val Loss'].iloc[idx])\n",
    "    plt.title('Model loss')\n",
    "    plt.ylabel('Loss')\n",
    "    plt.xlabel('Epoch')\n",
    "    plt.legend(['Train', 'Test'], loc='upper right')\n",
    "    plt.savefig(f'hasil/grafik/lossfunctionGraphics_BIGRU_CNN_TRIGRAM-{idx+1}.png')\n",
    "    plt.show()\n",
    "    plt.clf()"
   ],
   "metadata": {
    "collapsed": false
   }
  },
  {
   "cell_type": "code",
   "execution_count": null,
   "outputs": [],
   "source": [
    "df = pd.DataFrame(result, columns=['No', 'Accuracy', 'Precision', 'Recall', 'F1 Score', 'Loss', 'Val Loss'])\n",
    "df.to_csv('hasil/hasil_BIGRU_CNN_TRIGRAM.csv', index=False)\n",
    "\n",
    "#average\n",
    "print('Average Accuracy :', df['Accuracy'].mean())\n",
    "print('Average Precision :', df['Precision'].mean())\n",
    "print('Average Recall :', df['Recall'].mean())\n",
    "print('Average F1 Score :', df['F1 Score'].mean())\n",
    "loss_func(df)"
   ],
   "metadata": {
    "collapsed": false
   }
  }
 ],
 "metadata": {
  "kernelspec": {
   "display_name": "Python 3",
   "language": "python",
   "name": "python3"
  },
  "language_info": {
   "codemirror_mode": {
    "name": "ipython",
    "version": 2
   },
   "file_extension": ".py",
   "mimetype": "text/x-python",
   "name": "python",
   "nbconvert_exporter": "python",
   "pygments_lexer": "ipython2",
   "version": "2.7.6"
  }
 },
 "nbformat": 4,
 "nbformat_minor": 0
}
